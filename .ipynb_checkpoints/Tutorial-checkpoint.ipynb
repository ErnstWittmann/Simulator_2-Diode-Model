{
 "cells": [
  {
   "cell_type": "code",
   "execution_count": 5,
   "id": "83088d1c",
   "metadata": {
    "ExecuteTime": {
     "end_time": "2024-06-25T12:09:59.736290Z",
     "start_time": "2024-06-25T12:09:59.707918Z"
    },
    "code_folding": [
     7
    ]
   },
   "outputs": [],
   "source": [
    "from Panel_Simulation import Panel_Simulator\n",
    "from UsefullMiniFunctions import plt_U_I\n",
    "import matplotlib.pyplot as plt\n",
    "from tqdm import tqdm\n",
    "import multiprocessing as mp\n",
    "import pandas as pd\n",
    "\n",
    "def module_discription(waver_per_string=10,\n",
    "                      string_per_module = 3,\n",
    "                       I_SC = 5.17, #A\n",
    "                       shunt_resistance = 50, #Ohm,\n",
    "                       reverse_leakage_current_1 = 1e-9, #nA,\n",
    "                       N1 = 2,\n",
    "                       reverse_leakage_current_2 = 1e-9, #nA,\n",
    "                       N2 = 1,\n",
    "                       serial_resistance = 0.001 #Ohm\n",
    "                      ):\n",
    "    waver_list = np.ones([string_per_module, waver_per_string, 7])\n",
    "    waver_list[:, :, 0] = I_SC  # generator_current\n",
    "    waver_list[:, :, 1] = shunt_resistance\n",
    "    waver_list[:, :, 2] = reverse_leakage_current_1\n",
    "    waver_list[:, :, 3] = N1\n",
    "    waver_list[:, :, 4] = reverse_leakage_current_2\n",
    "    waver_list[:, :, 5] = N2\n",
    "    waver_list[:, :, 6] = serial_resistance\n",
    "    return waver_list"
   ]
  },
  {
   "cell_type": "code",
   "execution_count": 50,
   "id": "dc85205c",
   "metadata": {
    "ExecuteTime": {
     "end_time": "2024-06-25T12:15:24.312052Z",
     "start_time": "2024-06-25T12:15:24.280801Z"
    }
   },
   "outputs": [],
   "source": [
    "waver_per_string=10\n",
    "string_per_module = 3\n",
    "I_SC = 5.17 #A\n",
    "shunt_resistance = 50 #Ohm,\n",
    "reverse_leakage_current1 = 1e-9 #nA,\n",
    "N1 = 2\n",
    "reverse_leakage_current2 = 1e-9 #nA,\n",
    "N2 = 1\n",
    "serial_resistance = 0.001 #Ohm\n",
    "\n",
    "bypass_IS=10e-9\n",
    "bypass_N=1.0\n",
    "bypass_RS=5000.0\n",
    "bypass_BV=50"
   ]
  },
  {
   "cell_type": "code",
   "execution_count": 51,
   "id": "a132632d",
   "metadata": {
    "ExecuteTime": {
     "end_time": "2024-06-25T12:15:24.666194Z",
     "start_time": "2024-06-25T12:15:24.650568Z"
    },
    "code_folding": [
     0
    ]
   },
   "outputs": [
    {
     "name": "stdout",
     "output_type": "stream",
     "text": [
      "[[[5.17e+00 5.00e+01 1.00e-09 2.00e+00 1.00e-09 1.00e+00 1.00e-03]\n",
      "  [3.00e+00 5.00e+01 1.00e-09 2.00e+00 1.00e-09 1.00e+00 1.00e-03]\n",
      "  [3.00e+00 5.00e+01 1.00e-09 2.00e+00 1.00e-09 1.00e+00 1.00e-03]\n",
      "  [3.00e+00 5.00e+01 1.00e-09 2.00e+00 1.00e-09 1.00e+00 1.00e-03]\n",
      "  [5.17e+00 5.00e+01 1.00e-09 2.00e+00 1.00e-09 1.00e+00 1.00e-03]\n",
      "  [5.17e+00 5.00e+01 1.00e-09 2.00e+00 1.00e-09 1.00e+00 1.00e-03]\n",
      "  [5.17e+00 5.00e+01 1.00e-09 2.00e+00 1.00e-09 1.00e+00 1.00e-03]\n",
      "  [5.17e+00 5.00e+01 1.00e-09 2.00e+00 1.00e-09 1.00e+00 1.00e-03]\n",
      "  [5.17e+00 5.00e+01 1.00e-09 2.00e+00 1.00e-09 1.00e+00 1.00e-03]\n",
      "  [5.17e+00 5.00e+01 1.00e-09 2.00e+00 1.00e-09 1.00e+00 1.00e-03]]\n",
      "\n",
      " [[5.17e+00 5.00e+01 1.00e-09 2.00e+00 1.00e-09 1.00e+00 1.00e-03]\n",
      "  [5.17e+00 5.00e+01 1.00e-09 2.00e+00 1.00e-09 1.00e+00 1.00e-03]\n",
      "  [5.17e+00 5.00e+01 1.00e-09 2.00e+00 1.00e-09 1.00e+00 1.00e-03]\n",
      "  [5.17e+00 5.00e+01 1.00e-09 2.00e+00 1.00e-09 1.00e+00 1.00e-03]\n",
      "  [5.17e+00 5.00e+01 1.00e-09 2.00e+00 1.00e-09 1.00e+00 1.00e-03]\n",
      "  [5.17e+00 5.00e+01 1.00e-09 2.00e+00 1.00e-09 1.00e+00 1.00e-03]\n",
      "  [5.17e+00 5.00e+01 1.00e-09 2.00e+00 1.00e-09 1.00e+00 1.00e-03]\n",
      "  [5.17e+00 5.00e+01 1.00e-09 2.00e+00 1.00e-09 1.00e+00 1.00e-03]\n",
      "  [5.17e+00 5.00e+01 1.00e-09 2.00e+00 1.00e-09 1.00e+00 1.00e-03]\n",
      "  [5.17e+00 5.00e+01 1.00e-09 2.00e+00 1.00e-09 1.00e+00 1.00e-03]]\n",
      "\n",
      " [[5.17e+00 5.00e+01 1.00e-09 2.00e+00 1.00e-09 1.00e+00 1.00e-03]\n",
      "  [5.17e+00 5.00e+01 1.00e-09 2.00e+00 1.00e-09 1.00e+00 1.00e-03]\n",
      "  [5.17e+00 5.00e+01 1.00e-09 2.00e+00 1.00e-09 1.00e+00 1.00e-03]\n",
      "  [5.17e+00 5.00e+01 1.00e-09 2.00e+00 1.00e-09 1.00e+00 1.00e-03]\n",
      "  [5.17e+00 5.00e+01 1.00e-09 2.00e+00 1.00e-09 1.00e+00 1.00e-03]\n",
      "  [5.17e+00 5.00e+01 1.00e-09 2.00e+00 1.00e-09 1.00e+00 1.00e-03]\n",
      "  [5.17e+00 5.00e+01 1.00e-09 2.00e+00 1.00e-09 1.00e+00 1.00e-03]\n",
      "  [5.17e+00 5.00e+01 1.00e-09 2.00e+00 1.00e-09 1.00e+00 1.00e-03]\n",
      "  [5.17e+00 5.00e+01 1.00e-09 2.00e+00 1.00e-09 1.00e+00 1.00e-03]\n",
      "  [5.17e+00 5.00e+01 1.00e-09 2.00e+00 1.00e-09 1.00e+00 1.00e-03]]]\n"
     ]
    }
   ],
   "source": [
    "module = module_discription(  \n",
    "                                               waver_per_string,\n",
    "                                               string_per_module,\n",
    "                                               I_SC,\n",
    "                                               shunt_resistance,\n",
    "                                               reverse_leakage_current1,\n",
    "                                               N1,\n",
    "                                               reverse_leakage_current2,\n",
    "                                               N2,\n",
    "                                               serial_resistance\n",
    "                                            )\n",
    "module[0,1:4,0] =3\n",
    "print(module)"
   ]
  },
  {
   "cell_type": "code",
   "execution_count": 52,
   "id": "164b55fb",
   "metadata": {
    "ExecuteTime": {
     "end_time": "2024-06-25T12:15:25.051588Z",
     "start_time": "2024-06-25T12:15:24.982582Z"
    },
    "code_folding": []
   },
   "outputs": [
    {
     "data": {
      "image/png": "[encoded data removed]",
      "text/plain": [
       "<Figure size 640x480 with 1 Axes>"
      ]
     },
     "metadata": {},
     "output_type": "display_data"
    }
   ],
   "source": [
    "sim = Panel_Simulator()\n",
    "\n",
    "\n",
    "module_circuit = sim.create_module(module,bypass_IS=bypass_IS, bypass_N=bypass_N, bypass_RS=bypass_RS, bypass_BV=bypass_BV)\n",
    "\n",
    "\n",
    "u,i = sim.analyse_module( U_start = 0, U_end = 20, resolution=201, temperature=25, nominal_temperature=25)\n",
    "\n",
    "\n",
    "plt.plot(u,i, label=\"IV-Curve\")\n",
    "plt.ylim(0,10)\n",
    "plt.legend()\n",
    "plt_U_I()\n",
    "plt.show()"
   ]
  },
  {
   "cell_type": "code",
   "execution_count": null,
   "id": "8d199b0a",
   "metadata": {},
   "outputs": [],
   "source": []
  }
 ],
 "metadata": {
  "kernelspec": {
   "display_name": "Python 3 (ipykernel)",
   "language": "python",
   "name": "python3"
  },
  "language_info": {
   "codemirror_mode": {
    "name": "ipython",
    "version": 3
   },
   "file_extension": ".py",
   "mimetype": "text/x-python",
   "name": "python",
   "nbconvert_exporter": "python",
   "pygments_lexer": "ipython3",
   "version": "3.9.15"
  },
  "toc": {
   "base_numbering": 1,
   "nav_menu": {},
   "number_sections": true,
   "sideBar": true,
   "skip_h1_title": false,
   "title_cell": "Table of Contents",
   "title_sidebar": "Contents",
   "toc_cell": false,
   "toc_position": {},
   "toc_section_display": true,
   "toc_window_display": false
  },
  "varInspector": {
   "cols": {
    "lenName": 16,
    "lenType": 16,
    "lenVar": 40
   },
   "kernels_config": {
    "python": {
     "delete_cmd_postfix": "",
     "delete_cmd_prefix": "del ",
     "library": "var_list.py",
     "varRefreshCmd": "print(var_dic_list())"
    },
    "r": {
     "delete_cmd_postfix": ") ",
     "delete_cmd_prefix": "rm(",
     "library": "var_list.r",
     "varRefreshCmd": "cat(var_dic_list()) "
    }
   },
   "types_to_exclude": [
    "module",
    "function",
    "builtin_function_or_method",
    "instance",
    "_Feature"
   ],
   "window_display": false
  }
 },
 "nbformat": 4,
 "nbformat_minor": 5
}
